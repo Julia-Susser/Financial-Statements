{
 "cells": [
  {
   "cell_type": "code",
   "execution_count": null,
   "id": "29a48527",
   "metadata": {},
   "outputs": [],
   "source": [
    "# cols = finalCashFlow.columns[4:]\n",
    "# groupby = {x:\"sum\" for x in cols}\n",
    "# groupby.update({\"label\":\"first\",\"num_label\":\"min\",\"num_title\":\"min\"})\n",
    "# finalCashFlow[cols] = finalCashFlow[cols].fillna(0).astype('int32')\n",
    "# labels = [x.replace(\"Gain\",\"Loss\") for x in finalCashFlow.label]\n",
    "# labels = [re.sub(\"\\([\\w\\W]+\\)\",\"\",x).replace(\"  \",\" \").strip() for x in labels]\n",
    "\n",
    "# finalCashFlow[\"new_label\"] = labels\n",
    "#set up num label\n",
    "# finalCashFlow = finalCashFlow.groupby([\"title\",\"new_label\"]).aggregate(groupby).reset_index()\n",
    "# finalCashFlow = finalCashFlow.sort_values([\"num_title\",\"num_label\"])\n",
    "\n",
    "\n",
    "# labels = [pos_tag(x.split()) for x in labels]\n",
    "\n",
    "# dict_pos = {\"J\": wordnet.ADJ,\n",
    "#                 \"NN\": wordnet.NOUN,\n",
    "#                 \"VBD\": wordnet.VERB,\n",
    "#                 \"VBZ\": wordnet.VERB,\n",
    "#                 \"VBG\": wordnet.VERB,\n",
    "#                 \"VBN\": wordnet.VERB,\n",
    "#                 \"RB\": wordnet.ADV,\n",
    "#                 'IN':False}\n",
    "# def pos(x):\n",
    "#     return x.lower()[0]\n",
    "# labels = map(lambda sent: list(map(lambda x: [x[0].lower(),dict_pos.get(x[1],wordnet.NOUN)], sent)),labels)\n",
    "# labels = [[lemmatizer.lemmatize(word[0],pos=word[1]) for word in sent if word[1]] for sent in labels ]\n",
    "# [\" \".join(sent) for sent in labels]"
   ]
  }
 ],
 "metadata": {
  "kernelspec": {
   "display_name": "Python 3 (ipykernel)",
   "language": "python",
   "name": "python3"
  },
  "language_info": {
   "codemirror_mode": {
    "name": "ipython",
    "version": 3
   },
   "file_extension": ".py",
   "mimetype": "text/x-python",
   "name": "python",
   "nbconvert_exporter": "python",
   "pygments_lexer": "ipython3",
   "version": "3.9.12"
  }
 },
 "nbformat": 4,
 "nbformat_minor": 5
}
