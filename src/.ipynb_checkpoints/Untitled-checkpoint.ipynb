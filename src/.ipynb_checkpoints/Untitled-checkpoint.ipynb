{
 "cells": [
  {
   "cell_type": "code",
   "execution_count": 102,
   "id": "a10d50e5",
   "metadata": {},
   "outputs": [
    {
     "data": {
      "text/plain": [
       "[['Three Months Ended'],\n",
       " ['December\\xa029,', '2018', 'December\\xa030,', '2017', 'Change'],\n",
       " ['Net sales by category:'],\n",
       " ['iPhone', '(1)', '$', '51,982', '$', '61,104', '(15', ')%'],\n",
       " ['Mac', '(1)', '7,416', '6,824', '9', '%'],\n",
       " ['iPad', '(1)', '6,729', '5,755', '17', '%'],\n",
       " ['Wearables, Home and Accessories', '(1)(2)', '7,308', '5,481', '33', '%'],\n",
       " ['Services', '(3)', '10,875', '9,129', '19', '%'],\n",
       " ['Total net sales', '$', '84,310', '$', '88,293', '(5', ')%']]"
      ]
     },
     "execution_count": 102,
     "metadata": {},
     "output_type": "execute_result"
    }
   ],
   "source": [
    "from bs4 import BeautifulSoup\n",
    "import requests\n",
    "\n",
    "\n",
    "headers = {\"User-agent\":\"Mozilla/5.0 (X11; Linux x86_64) AppleWebKit/537.36 (KHTML, like Gecko) Chrome/77.0.3865.120 Safari/537.36\"}\n",
    "# Obtain HTML for search page\n",
    "base_url = \"https://www.sec.gov/Archives/edgar/data/320193/000032019319000010/a10-qq1201912292018.htm\"\n",
    "edgar_resp = requests.get(base_url, headers=headers)\n",
    "edgar_str = edgar_resp.text\n",
    "\n",
    "\n",
    "soup = BeautifulSoup(edgar_str, 'html.parser')\n",
    "s =  soup.find(['span','div'], recursive=True, string='Products and Services Performance')\n",
    "t = s.find_next('table')\n",
    "trs = t.find_all('tr')\n",
    "table = [list(tr.stripped_strings) for tr in trs if tr.text]\n",
    "table\n",
    "        "
   ]
  },
  {
   "cell_type": "code",
   "execution_count": 88,
   "id": "f7ec66d5",
   "metadata": {},
   "outputs": [],
   "source": [
    "import pandas as pd\n",
    "import os\n",
    "import openpyxl\n",
    "import numpy as np\n",
    "import re\n",
    "from datetime import datetime\n",
    "import requests\n",
    "import shutil\n"
   ]
  },
  {
   "cell_type": "code",
   "execution_count": 89,
   "id": "225cff3b",
   "metadata": {},
   "outputs": [],
   "source": [
    "\n",
    "class SECSubmissions:\n",
    "    def __init__(self,ticker):\n",
    "        self.ticker = ticker \n",
    "        self.CIK = self.getCIK()\n",
    "        self.filings = self.getSECFilings(self.CIK)\n",
    "        self.filings = self.findDate(self.filings)\n",
    "        self.fiscalYear = self.findFiscalYear(self.filings)\n",
    "        self.filings = self.mergeFiscalYearWithFilings(self.filings, self.fiscalYear)\n",
    "        self.filings = self.createSubmissionName(self.filings)\n",
    "        \n",
    "    def getCIK(self): #get SEC code for company based on ticker\n",
    "        headers={\"User-Agent\": \"Mozilla/5.0\"}\n",
    "        symbol_to_cik = requests.get(\"https://www.sec.gov/files/company_tickers.json\").json() #returns a json dictionary with a indexed list of all different companies \n",
    "        ciks = {info[\"ticker\"]:info[\"cik_str\"] for key,info in symbol_to_cik.items()} #create dictionary indexable by ticker\n",
    "        return ciks[self.ticker]\n",
    "    \n",
    "        \n",
    "    #input: CIK\n",
    "    #request the data on every submission to SEC website for the company\n",
    "    def getSECFilings(self,CIK):\n",
    "        headers={\"User-Agent\": \"Mozilla/5.0\"}\n",
    "        edgar_filings = requests.get(f\"https://data.sec.gov/submissions/CIK{CIK:0>10}.json\", headers=headers).json()\n",
    "        filings = pd.DataFrame(edgar_filings[\"filings\"][\"recent\"])\n",
    "        filings = filings.loc[filings[\"reportDate\"]>\"2014-01-01\"]#filings pre-2014 are unable to be downloaded due to different excel format\n",
    "        filings = filings.loc[filings[\"form\"].isin([\"10-Q\",\"10-K\"])].reset_index(drop=True) #drop all filings that are not 10Q or 10K\n",
    "        return filings \n",
    "    \n",
    "    #input filings\n",
    "    #output filings with mo and year\n",
    "    def findDate(self,filings):\n",
    "        filings[\"Month\"] = pd.to_datetime(filings[\"reportDate\"]).dt.strftime(\"%m\").astype(\"int\") #get Month of all filings \n",
    "        filings[\"Year\"] = pd.to_datetime(filings[\"reportDate\"]).dt.strftime(\"%Y\").astype(\"int\") #get Year of all filings\n",
    "        return filings\n",
    "    \n",
    "    #input a list of 10k filings with mo and year\n",
    "    #find one fiscal year of data via 10k, then find all possible months filed and organize to fiscal period\n",
    "    def findFiscalYear(self,filings):\n",
    "        #get a fiscal Year of data by finding the last 10K and the three 10Qs before it\n",
    "        TenKIndex = filings.loc[filings[\"form\"]==\"10-K\"].index[0] \n",
    "        fiscalYearKey = filings.loc[TenKIndex:TenKIndex+3,[\"Month\",\"form\"]].copy().reset_index(drop=True)\n",
    "        fiscalYearKey[\"Period\"] = [\"Year Ended\", \"Q3\",\"Q2\",\"Q1\"]\n",
    "        \n",
    "        #fiscal year data for certain period can vary between months ie. both Jan & Feb, therefore I found all possible months of filings and found appropriate period for each month\n",
    "        fiscalYear = pd.DataFrame({\"Month\":filings.Month.unique()})\n",
    "        fiscalYear.index = list(fiscalYear.Month.apply(lambda x: np.argmin(np.abs(fiscalYearKey.Month-x)))) #using fiscal year key, I found the index of the period in fiscalYearKey with closest month to each month \n",
    "        fiscalYear = pd.merge(fiscalYear,fiscalYearKey, left_index=True, right_index=True, suffixes=(\"\",\"_x\")) #I merged together together all of the possible months with their corresponding period based on the key\n",
    "        fiscalYear = fiscalYear.drop(columns=\"Month_x\")\n",
    "        \n",
    "        return fiscalYear\n",
    "    \n",
    "    #input filings of 10k/q\n",
    "    #merge by month to find which fiscal period, if filing of 10q is later in year than 10k, then adjust year so it is a part of right fiscal year\n",
    "    def mergeFiscalYearWithFilings(self, filings, fiscalYear):\n",
    "        print(fiscalYear)\n",
    "        #merge fiscal year labels with filings by the month that they were reported\n",
    "        filings = pd.merge(filings,fiscalYear,on=[\"Month\",\"form\"],how=\"left\")    \n",
    "        #set Fiscal Year\n",
    "        filings[\"Fiscal Year\"] = filings[\"Year\"]\n",
    "        #get Quarters that are a part of different fiscal Year than report date\n",
    "        TenKMo = fiscalYear.loc[fiscalYear[\"form\"]==\"10-K\"][\"Month\"].iloc[0]\n",
    "        filings.loc[(filings[\"Month\"]>TenKMo)&(filings[\"form\"]!=\"10-K\"),\"Fiscal Year\"] += 1 #the 10K is reported in a month before the 10Q so therefore the 10Q is the next fiscal year \n",
    "        \n",
    "        return filings\n",
    "    \n",
    "    \n",
    "\n",
    "    #input filings\n",
    "    #take the fiscal period and year and create a string, if different fiscal Year than filing date use parenthesis\n",
    "    def createSubmissionName(self,filings):\n",
    "        filings[\"Name\"] = filings.apply(self.submissionName,axis=1)\n",
    "        return filings\n",
    "        \n",
    "    def submissionName(self,row):\n",
    "        period = row[\"Period\"]\n",
    "        fiscalYear = row[\"Fiscal Year\"]\n",
    "        Year = row[\"Year\"]\n",
    "        if fiscalYear != Year:\n",
    "                name = f\"{period} {fiscalYear} ({Year})\"\n",
    "        else: \n",
    "                name = f\"{period} {fiscalYear}\"\n",
    "        return name\n",
    "    \n",
    "    \n",
    "    \n",
    "        "
   ]
  },
  {
   "cell_type": "code",
   "execution_count": 103,
   "id": "6d997bf9",
   "metadata": {},
   "outputs": [],
   "source": [
    "class WriteSECProductStatements(SECSubmissions):\n",
    "    def __init__(self,ticker):\n",
    "        super().__init__(ticker)\n",
    "        self.path =  os.path.join(\"../input\",f\"Financial Statement {self.ticker}\")\n",
    "        self.file = os.path.join(self.path,\"Sales By Segment\")\n",
    "        \n",
    "        self.writeProductSalesData(self.filings)\n",
    "    \n",
    "    def parseStatementForSalesTable(self,edgar_str):\n",
    "        \n",
    "        soup = BeautifulSoup(edgar_str, 'html.parser')\n",
    "        s =  soup.find(['span','div'], recursive=True, string='Products and Services Performance')\n",
    "        t = s.find_next('table')\n",
    "        trs = t.find_all('tr')\n",
    "        table = [list(tr.stripped_strings) for tr in trs if tr.text]\n",
    "        table = [[x for x in row if not bool(re.search('[$%\\(]',x))] for row in table]\n",
    "        df = pd.DataFrame(table[3:]).iloc[:,[0,1,3]]\n",
    "        df.columns = [\"Product\",\"Q1 2020\",\"Change\"]\n",
    "        return df \n",
    "    #input: filings\n",
    "    #iterate through and use the accession number to grab filings from SEC, compile into excel spreadsheet\n",
    "    def writeProductSalesData(self,filings):\n",
    "        finalSales = pd.DataFrame(columns=[\"Product\"])\n",
    "        for i,row in self.filings.iterrows():\n",
    "            name = row[\"Name\"]\n",
    "            print(name)\n",
    "            accessionNum = row[\"accessionNumber\"].replace(\"-\",\"\")\n",
    "            doc = row[\"primaryDocument\"]\n",
    "            url = f\"https://www.sec.gov/Archives/edgar/data/{self.CIK}/{accessionNum}/{doc}\"\n",
    "            print(url)\n",
    "            req = requests.get(url,headers={\"User-Agent\": \"Mozilla/5.0\"})\n",
    "            edgar_str = req.text\n",
    "            sales = self.parseStatementForSalesTable(edgar_str)\n",
    "            pd.merge(finalSales, sales, on=\"Product\", how=\"outer\")\n",
    "\n",
    "        finalSales.to_excel(self.file)\n",
    "            \n",
    "        "
   ]
  },
  {
   "cell_type": "code",
   "execution_count": 104,
   "id": "cbeaa31f",
   "metadata": {},
   "outputs": [
    {
     "name": "stdout",
     "output_type": "stream",
     "text": [
      "   Month  form      Period\n",
      "0      9  10-K  Year Ended\n",
      "1      6  10-Q          Q3\n",
      "1      7  10-Q          Q3\n",
      "2      3  10-Q          Q2\n",
      "2      4  10-Q          Q2\n",
      "3     12  10-Q          Q1\n",
      "Q3 2022\n",
      "https://www.sec.gov/Archives/edgar/data/320193/000032019322000070/aapl-20220625.htm\n",
      "Q2 2022\n",
      "https://www.sec.gov/Archives/edgar/data/320193/000032019322000059/aapl-20220326.htm\n",
      "Q1 2022 (2021)\n",
      "https://www.sec.gov/Archives/edgar/data/320193/000032019322000007/aapl-20211225.htm\n",
      "Year Ended 2021\n",
      "https://www.sec.gov/Archives/edgar/data/320193/000032019321000105/aapl-20210925.htm\n",
      "Q3 2021\n",
      "https://www.sec.gov/Archives/edgar/data/320193/000032019321000065/aapl-20210626.htm\n",
      "Q2 2021\n",
      "https://www.sec.gov/Archives/edgar/data/320193/000032019321000056/aapl-20210327.htm\n",
      "Q1 2021 (2020)\n",
      "https://www.sec.gov/Archives/edgar/data/320193/000032019321000010/aapl-20201226.htm\n",
      "Year Ended 2020\n",
      "https://www.sec.gov/Archives/edgar/data/320193/000032019320000096/aapl-20200926.htm\n",
      "Q3 2020\n",
      "https://www.sec.gov/Archives/edgar/data/320193/000032019320000062/aapl-20200627.htm\n",
      "Q2 2020\n",
      "https://www.sec.gov/Archives/edgar/data/320193/000032019320000052/a10-qq220203282020.htm\n",
      "Q1 2020 (2019)\n",
      "https://www.sec.gov/Archives/edgar/data/320193/000032019320000010/a10-qq1202012282019.htm\n",
      "Year Ended 2019\n",
      "https://www.sec.gov/Archives/edgar/data/320193/000032019319000119/a10-k20199282019.htm\n",
      "Q3 2019\n",
      "https://www.sec.gov/Archives/edgar/data/320193/000032019319000076/a10-qq320196292019.htm\n",
      "Q2 2019\n",
      "https://www.sec.gov/Archives/edgar/data/320193/000032019319000066/a10-qq220193302019.htm\n",
      "Q1 2019 (2018)\n",
      "https://www.sec.gov/Archives/edgar/data/320193/000032019319000010/a10-qq1201912292018.htm\n",
      "Year Ended 2018\n",
      "https://www.sec.gov/Archives/edgar/data/320193/000032019318000145/a10-k20189292018.htm\n"
     ]
    },
    {
     "ename": "AttributeError",
     "evalue": "'NoneType' object has no attribute 'find_next'",
     "output_type": "error",
     "traceback": [
      "\u001b[0;31m---------------------------------------------------------------------------\u001b[0m",
      "\u001b[0;31mAttributeError\u001b[0m                            Traceback (most recent call last)",
      "Input \u001b[0;32mIn [104]\u001b[0m, in \u001b[0;36m<cell line: 1>\u001b[0;34m()\u001b[0m\n\u001b[0;32m----> 1\u001b[0m \u001b[43mWriteSECProductStatements\u001b[49m\u001b[43m(\u001b[49m\u001b[38;5;124;43m\"\u001b[39;49m\u001b[38;5;124;43mAAPL\u001b[39;49m\u001b[38;5;124;43m\"\u001b[39;49m\u001b[43m)\u001b[49m\n",
      "Input \u001b[0;32mIn [103]\u001b[0m, in \u001b[0;36mWriteSECProductStatements.__init__\u001b[0;34m(self, ticker)\u001b[0m\n\u001b[1;32m      4\u001b[0m \u001b[38;5;28mself\u001b[39m\u001b[38;5;241m.\u001b[39mpath \u001b[38;5;241m=\u001b[39m  os\u001b[38;5;241m.\u001b[39mpath\u001b[38;5;241m.\u001b[39mjoin(\u001b[38;5;124m\"\u001b[39m\u001b[38;5;124m../input\u001b[39m\u001b[38;5;124m\"\u001b[39m,\u001b[38;5;124mf\u001b[39m\u001b[38;5;124m\"\u001b[39m\u001b[38;5;124mFinancial Statement \u001b[39m\u001b[38;5;132;01m{\u001b[39;00m\u001b[38;5;28mself\u001b[39m\u001b[38;5;241m.\u001b[39mticker\u001b[38;5;132;01m}\u001b[39;00m\u001b[38;5;124m\"\u001b[39m)\n\u001b[1;32m      5\u001b[0m \u001b[38;5;28mself\u001b[39m\u001b[38;5;241m.\u001b[39mfile \u001b[38;5;241m=\u001b[39m os\u001b[38;5;241m.\u001b[39mpath\u001b[38;5;241m.\u001b[39mjoin(\u001b[38;5;28mself\u001b[39m\u001b[38;5;241m.\u001b[39mpath,\u001b[38;5;124m\"\u001b[39m\u001b[38;5;124mSales By Segment\u001b[39m\u001b[38;5;124m\"\u001b[39m)\n\u001b[0;32m----> 7\u001b[0m \u001b[38;5;28;43mself\u001b[39;49m\u001b[38;5;241;43m.\u001b[39;49m\u001b[43mwriteProductSalesData\u001b[49m\u001b[43m(\u001b[49m\u001b[38;5;28;43mself\u001b[39;49m\u001b[38;5;241;43m.\u001b[39;49m\u001b[43mfilings\u001b[49m\u001b[43m)\u001b[49m\n",
      "Input \u001b[0;32mIn [103]\u001b[0m, in \u001b[0;36mWriteSECProductStatements.writeProductSalesData\u001b[0;34m(self, filings)\u001b[0m\n\u001b[1;32m     31\u001b[0m     req \u001b[38;5;241m=\u001b[39m requests\u001b[38;5;241m.\u001b[39mget(url,headers\u001b[38;5;241m=\u001b[39m{\u001b[38;5;124m\"\u001b[39m\u001b[38;5;124mUser-Agent\u001b[39m\u001b[38;5;124m\"\u001b[39m: \u001b[38;5;124m\"\u001b[39m\u001b[38;5;124mMozilla/5.0\u001b[39m\u001b[38;5;124m\"\u001b[39m})\n\u001b[1;32m     32\u001b[0m     edgar_str \u001b[38;5;241m=\u001b[39m req\u001b[38;5;241m.\u001b[39mtext\n\u001b[0;32m---> 33\u001b[0m     sales \u001b[38;5;241m=\u001b[39m \u001b[38;5;28;43mself\u001b[39;49m\u001b[38;5;241;43m.\u001b[39;49m\u001b[43mparseStatementForSalesTable\u001b[49m\u001b[43m(\u001b[49m\u001b[43medgar_str\u001b[49m\u001b[43m)\u001b[49m\n\u001b[1;32m     34\u001b[0m     pd\u001b[38;5;241m.\u001b[39mmerge(finalSales, sales, on\u001b[38;5;241m=\u001b[39m\u001b[38;5;124m\"\u001b[39m\u001b[38;5;124mProduct\u001b[39m\u001b[38;5;124m\"\u001b[39m, how\u001b[38;5;241m=\u001b[39m\u001b[38;5;124m\"\u001b[39m\u001b[38;5;124mouter\u001b[39m\u001b[38;5;124m\"\u001b[39m)\n\u001b[1;32m     36\u001b[0m finalSales\u001b[38;5;241m.\u001b[39mto_excel(\u001b[38;5;28mself\u001b[39m\u001b[38;5;241m.\u001b[39mfile)\n",
      "Input \u001b[0;32mIn [103]\u001b[0m, in \u001b[0;36mWriteSECProductStatements.parseStatementForSalesTable\u001b[0;34m(self, edgar_str)\u001b[0m\n\u001b[1;32m     11\u001b[0m soup \u001b[38;5;241m=\u001b[39m BeautifulSoup(edgar_str, \u001b[38;5;124m'\u001b[39m\u001b[38;5;124mhtml.parser\u001b[39m\u001b[38;5;124m'\u001b[39m)\n\u001b[1;32m     12\u001b[0m s \u001b[38;5;241m=\u001b[39m  soup\u001b[38;5;241m.\u001b[39mfind([\u001b[38;5;124m'\u001b[39m\u001b[38;5;124mspan\u001b[39m\u001b[38;5;124m'\u001b[39m,\u001b[38;5;124m'\u001b[39m\u001b[38;5;124mdiv\u001b[39m\u001b[38;5;124m'\u001b[39m], recursive\u001b[38;5;241m=\u001b[39m\u001b[38;5;28;01mTrue\u001b[39;00m, string\u001b[38;5;241m=\u001b[39m\u001b[38;5;124m'\u001b[39m\u001b[38;5;124mProducts and Services Performance\u001b[39m\u001b[38;5;124m'\u001b[39m)\n\u001b[0;32m---> 13\u001b[0m t \u001b[38;5;241m=\u001b[39m \u001b[43ms\u001b[49m\u001b[38;5;241;43m.\u001b[39;49m\u001b[43mfind_next\u001b[49m(\u001b[38;5;124m'\u001b[39m\u001b[38;5;124mtable\u001b[39m\u001b[38;5;124m'\u001b[39m)\n\u001b[1;32m     14\u001b[0m trs \u001b[38;5;241m=\u001b[39m t\u001b[38;5;241m.\u001b[39mfind_all(\u001b[38;5;124m'\u001b[39m\u001b[38;5;124mtr\u001b[39m\u001b[38;5;124m'\u001b[39m)\n\u001b[1;32m     15\u001b[0m table \u001b[38;5;241m=\u001b[39m [\u001b[38;5;28mlist\u001b[39m(tr\u001b[38;5;241m.\u001b[39mstripped_strings) \u001b[38;5;28;01mfor\u001b[39;00m tr \u001b[38;5;129;01min\u001b[39;00m trs \u001b[38;5;28;01mif\u001b[39;00m tr\u001b[38;5;241m.\u001b[39mtext]\n",
      "\u001b[0;31mAttributeError\u001b[0m: 'NoneType' object has no attribute 'find_next'"
     ]
    }
   ],
   "source": [
    "WriteSECProductStatements(\"AAPL\")"
   ]
  },
  {
   "cell_type": "code",
   "execution_count": 86,
   "id": "d93ed0a0",
   "metadata": {},
   "outputs": [],
   "source": [
    "# x=0\n",
    "# for tag in soup.find_all(['table']):\n",
    "#     print(tag.name)\n",
    "#     print(\"\\n\")\n",
    "#     if x == 10:\n",
    "#         break\n",
    "#     x += 1\n",
    "#     print(tag)"
   ]
  },
  {
   "cell_type": "code",
   "execution_count": 132,
   "id": "bfde4d9d",
   "metadata": {},
   "outputs": [
    {
     "name": "stdout",
     "output_type": "stream",
     "text": [
      "HERE\n",
      "[['Three Months Ended'], ['December\\xa029,', '2018', 'December\\xa030,', '2017'], ['iPhone', '(1)', '$', '51,982', '$', '61,104'], ['Mac', '(1)', '7,416', '6,824'], ['iPad', '(1)', '6,729', '5,755'], ['Wearables, Home and Accessories', '(1)(2)', '7,308', '5,481'], ['Services', '(3)', '10,875', '9,129'], ['Total net sales', '(4)', '$', '84,310', '$', '88,293']]\n",
      "HERE\n",
      "[['Three Months Ended'], ['December\\xa029,', '2018', 'December\\xa030,', '2017', 'Change'], ['Net sales by category:'], ['iPhone', '(1)', '$', '51,982', '$', '61,104', '(15', ')%'], ['Mac', '(1)', '7,416', '6,824', '9', '%'], ['iPad', '(1)', '6,729', '5,755', '17', '%'], ['Wearables, Home and Accessories', '(1)(2)', '7,308', '5,481', '33', '%'], ['Services', '(3)', '10,875', '9,129', '19', '%'], ['Total net sales', '$', '84,310', '$', '88,293', '(5', ')%']]\n"
     ]
    }
   ],
   "source": [
    "data = []\n",
    "table = soup.find_all('table')[10]\n",
    "\n",
    "for table in soup.find_all('table'):\n",
    "    trs = table.find_all('tr')\n",
    "    table = [list(tr.stripped_strings) for tr in trs if tr.text]\n",
    "\n",
    "    y = \"\"\n",
    "    for x in table: \n",
    "        for l in x:\n",
    "            y+=l\n",
    "    if \"iPhone\" in y:\n",
    "        print(\"HERE\")\n",
    "        print(table)\n",
    "\n",
    "# trs = table.find_all('tr')\n",
    "# table = [list(tr.stripped_strings) for tr in trs if tr.text]"
   ]
  },
  {
   "cell_type": "code",
   "execution_count": 117,
   "id": "0a90f343",
   "metadata": {},
   "outputs": [
    {
     "data": {
      "text/plain": [
       "[]"
      ]
     },
     "execution_count": 117,
     "metadata": {},
     "output_type": "execute_result"
    }
   ],
   "source": [
    "data"
   ]
  },
  {
   "cell_type": "code",
   "execution_count": 123,
   "id": "b675e51a",
   "metadata": {},
   "outputs": [],
   "source": []
  },
  {
   "cell_type": "code",
   "execution_count": 124,
   "id": "a043a41b",
   "metadata": {},
   "outputs": [
    {
     "data": {
      "text/plain": [
       "'Three Months EndedDecember\\xa029,2018December\\xa030,2017Net sales:Products$73,435$79,164Services10,8759,129Total net sales84,31088,293Cost of sales:Products48,23850,575Services4,0413,806Total cost of sales52,27954,381Gross margin32,03133,912Operating expenses:Research and development3,9023,407Selling, general and administrative4,7834,231Total operating expenses8,6857,638Operating income23,34626,274Other income/(expense), net560756Income before provision for income taxes23,90627,030Provision for income taxes3,9416,965Net income$19,965$20,065Earnings per share:Basic$4.22$3.92Diluted$4.18$3.89Shares used in computing earnings per share:Basic4,735,8205,112,877Diluted4,773,2525,157,787'"
      ]
     },
     "execution_count": 124,
     "metadata": {},
     "output_type": "execute_result"
    }
   ],
   "source": [
    "y"
   ]
  },
  {
   "cell_type": "code",
   "execution_count": null,
   "id": "75297397",
   "metadata": {},
   "outputs": [],
   "source": []
  }
 ],
 "metadata": {
  "kernelspec": {
   "display_name": "Python 3 (ipykernel)",
   "language": "python",
   "name": "python3"
  },
  "language_info": {
   "codemirror_mode": {
    "name": "ipython",
    "version": 3
   },
   "file_extension": ".py",
   "mimetype": "text/x-python",
   "name": "python",
   "nbconvert_exporter": "python",
   "pygments_lexer": "ipython3",
   "version": "3.9.13"
  }
 },
 "nbformat": 4,
 "nbformat_minor": 5
}
